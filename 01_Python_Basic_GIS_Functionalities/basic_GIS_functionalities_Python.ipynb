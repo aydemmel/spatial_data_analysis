{
 "cells": [
  {
   "cell_type": "markdown",
   "metadata": {},
   "source": [
    "# Basic GIS Functionalities Python"
   ]
  },
  {
   "cell_type": "markdown",
   "metadata": {},
   "source": [
    "## Libraries and settings"
   ]
  },
  {
   "cell_type": "code",
   "execution_count": 2,
   "metadata": {},
   "outputs": [
    {
     "name": "stdout",
     "output_type": "stream",
     "text": [
      "Defaulting to user installation because normal site-packages is not writeable\n",
      "Requirement already satisfied: folium in /home/vscode/.local/lib/python3.12/site-packages (0.17.0)\n",
      "Requirement already satisfied: branca>=0.6.0 in /home/vscode/.local/lib/python3.12/site-packages (from folium) (0.8.0)\n",
      "Requirement already satisfied: jinja2>=2.9 in /home/vscode/.local/lib/python3.12/site-packages (from folium) (3.1.4)\n",
      "Requirement already satisfied: numpy in /home/vscode/.local/lib/python3.12/site-packages (from folium) (1.26.4)\n",
      "Requirement already satisfied: requests in /home/vscode/.local/lib/python3.12/site-packages (from folium) (2.32.3)\n",
      "Requirement already satisfied: xyzservices in /home/vscode/.local/lib/python3.12/site-packages (from folium) (2024.9.0)\n",
      "Requirement already satisfied: MarkupSafe>=2.0 in /home/vscode/.local/lib/python3.12/site-packages (from jinja2>=2.9->folium) (2.1.5)\n",
      "Requirement already satisfied: charset-normalizer<4,>=2 in /home/vscode/.local/lib/python3.12/site-packages (from requests->folium) (3.3.2)\n",
      "Requirement already satisfied: idna<4,>=2.5 in /home/vscode/.local/lib/python3.12/site-packages (from requests->folium) (3.10)\n",
      "Requirement already satisfied: urllib3<3,>=1.21.1 in /home/vscode/.local/lib/python3.12/site-packages (from requests->folium) (2.2.3)\n",
      "Requirement already satisfied: certifi>=2017.4.17 in /home/vscode/.local/lib/python3.12/site-packages (from requests->folium) (2024.8.30)\n",
      "Note: you may need to restart the kernel to use updated packages.\n",
      "Defaulting to user installation because normal site-packages is not writeable\n",
      "Requirement already satisfied: geopandas in /home/vscode/.local/lib/python3.12/site-packages (1.0.1)\n",
      "Requirement already satisfied: numpy>=1.22 in /home/vscode/.local/lib/python3.12/site-packages (from geopandas) (1.26.4)\n",
      "Requirement already satisfied: pyogrio>=0.7.2 in /home/vscode/.local/lib/python3.12/site-packages (from geopandas) (0.10.0)\n",
      "Requirement already satisfied: packaging in /home/vscode/.local/lib/python3.12/site-packages (from geopandas) (24.1)\n",
      "Requirement already satisfied: pandas>=1.4.0 in /home/vscode/.local/lib/python3.12/site-packages (from geopandas) (2.2.3)\n",
      "Requirement already satisfied: pyproj>=3.3.0 in /home/vscode/.local/lib/python3.12/site-packages (from geopandas) (3.6.1)\n",
      "Requirement already satisfied: shapely>=2.0.0 in /home/vscode/.local/lib/python3.12/site-packages (from geopandas) (2.0.6)\n",
      "Requirement already satisfied: python-dateutil>=2.8.2 in /home/vscode/.local/lib/python3.12/site-packages (from pandas>=1.4.0->geopandas) (2.9.0.post0)\n",
      "Requirement already satisfied: pytz>=2020.1 in /home/vscode/.local/lib/python3.12/site-packages (from pandas>=1.4.0->geopandas) (2024.2)\n",
      "Requirement already satisfied: tzdata>=2022.7 in /home/vscode/.local/lib/python3.12/site-packages (from pandas>=1.4.0->geopandas) (2024.2)\n",
      "Requirement already satisfied: certifi in /home/vscode/.local/lib/python3.12/site-packages (from pyogrio>=0.7.2->geopandas) (2024.8.30)\n",
      "Requirement already satisfied: six>=1.5 in /home/vscode/.local/lib/python3.12/site-packages (from python-dateutil>=2.8.2->pandas>=1.4.0->geopandas) (1.16.0)\n",
      "Note: you may need to restart the kernel to use updated packages.\n",
      "/workspaces/spatial_data_analysis/01_Python_Basic_GIS_Functionalities\n"
     ]
    }
   ],
   "source": [
    "# Libraries\n",
    "import os\n",
    "%pip install folium\n",
    "import folium\n",
    "%pip install geopandas\n",
    "import geopandas as gpd\n",
    "import pandas as pd\n",
    "import seaborn as sns\n",
    "import matplotlib.pyplot as plt\n",
    "\n",
    "# Ignore warnings\n",
    "import warnings\n",
    "warnings.filterwarnings(\"ignore\")\n",
    "\n",
    "# Show current working directory\n",
    "print(os.getcwd())"
   ]
  },
  {
   "cell_type": "markdown",
   "metadata": {},
   "source": [
    "## Read spatial data"
   ]
  },
  {
   "cell_type": "code",
   "execution_count": null,
   "metadata": {},
   "outputs": [],
   "source": [
    "# Polygonmap as .json-File\n",
    "polys = gpd.read_file(\"GEN_A4_GEMEINDEN_2019_epsg4326.json\")\n",
    "\n",
    "# Show data structure and first records\n",
    "print(\"nrows, ncols\", polys.shape)\n",
    "print(\"-------------------------------------------------------\")\n",
    "print(\"Type:\", type(polys))\n",
    "\n",
    "# Object is GeoDataFrame (includes geometry of polygons)\n",
    "polys"
   ]
  },
  {
   "cell_type": "markdown",
   "metadata": {},
   "source": [
    "## Plot spatial map"
   ]
  },
  {
   "cell_type": "code",
   "execution_count": null,
   "metadata": {},
   "outputs": [],
   "source": [
    "# Initializing the map\n",
    "m = folium.Map(location=[47.44, 8.65], zoom_start=10)\n",
    "\n",
    "# Map settings\n",
    "folium.Choropleth(\n",
    "    geo_data=polys,\n",
    "    name='polys',\n",
    "    fill_color='greenyellow'\n",
    ").add_to(m)\n",
    "\n",
    "folium.LayerControl().add_to(m)\n",
    "\n",
    "# Plot map\n",
    "m"
   ]
  },
  {
   "cell_type": "markdown",
   "metadata": {},
   "source": [
    "## Plot a subset of the spatial map"
   ]
  },
  {
   "cell_type": "code",
   "execution_count": null,
   "metadata": {},
   "outputs": [],
   "source": [
    "# Subset of map with index\n",
    "idx = polys[polys['NAME'] == 'Winterthur'].index[0]\n",
    "polys.iloc[[idx]]"
   ]
  },
  {
   "cell_type": "code",
   "execution_count": null,
   "metadata": {},
   "outputs": [],
   "source": [
    "# Initializing the map\n",
    "m = folium.Map(location=[47.44, 8.65], zoom_start=10)\n",
    "\n",
    "# Map settings\n",
    "folium.Choropleth(\n",
    "    geo_data=polys.iloc[[idx]],\n",
    "    name='polys',\n",
    "    fill_color='greenyellow'\n",
    ").add_to(m)\n",
    "\n",
    "folium.LayerControl().add_to(m)\n",
    "\n",
    "# Plot map\n",
    "m"
   ]
  },
  {
   "cell_type": "markdown",
   "metadata": {},
   "source": [
    "## Read attribute data"
   ]
  },
  {
   "cell_type": "code",
   "execution_count": null,
   "metadata": {},
   "outputs": [],
   "source": [
    "# Read municipality data\n",
    "data = pd.read_excel('municipalities_kt_zh_data.xlsx', index_col=None)\n",
    "print(type(data))\n",
    "data.head(5)"
   ]
  },
  {
   "cell_type": "markdown",
   "metadata": {},
   "source": [
    "## Explore attribute data"
   ]
  },
  {
   "cell_type": "code",
   "execution_count": null,
   "metadata": {},
   "outputs": [],
   "source": [
    "# Describe data\n",
    "data.describe()"
   ]
  },
  {
   "cell_type": "code",
   "execution_count": null,
   "metadata": {},
   "outputs": [],
   "source": [
    "# Pairplot\n",
    "sns.set_theme(style=\"ticks\")\n",
    "\n",
    "g = sns.PairGrid(data[['residents', 'percentage_foreigners', 'residents_per_km2']], height=2.0, aspect=1)\n",
    "g.map_upper(sns.scatterplot,color='darkgreen')\n",
    "g.map_lower(sns.scatterplot, color='darkgreen')\n",
    "g.map_diag(plt.hist, color='orange')\n",
    "\n",
    "plt.show()"
   ]
  },
  {
   "cell_type": "markdown",
   "metadata": {},
   "source": [
    "## Find a useful base map"
   ]
  },
  {
   "cell_type": "code",
   "execution_count": null,
   "metadata": {},
   "outputs": [],
   "source": [
    "# Create a map using Stamen Terrain as the basemap\n",
    "m = folium.Map(location=[47.364, 8.535],\n",
    "              tiles = 'CartoDBPositron')\n",
    "\n",
    "# Alternative map designs (map tiles):\n",
    "# EsriWorldImagery\n",
    "# EsriWorldTopoMap\n",
    "# EsriWorldGrayCanvas\n",
    "# CartoDBDarkMatter\n",
    "# CartoDBPositron\n",
    "\n",
    "# Display spatial map\n",
    "m"
   ]
  },
  {
   "cell_type": "markdown",
   "metadata": {},
   "source": [
    "## Create choropleth map"
   ]
  },
  {
   "cell_type": "code",
   "execution_count": null,
   "metadata": {},
   "outputs": [],
   "source": [
    "# Function for hiding original legend\n",
    "def folium_del_legend(choropleth: folium.Choropleth):\n",
    "    del_list = []\n",
    "    for child in choropleth._children:\n",
    "        if child.startswith('color_map'):\n",
    "            del_list.append(child)\n",
    "            for del_item in del_list:\n",
    "                choropleth._children.pop(del_item)\n",
    "                return choropleth\n",
    "\n",
    "# Geojson and data\n",
    "polys = 'GEN_A4_GEMEINDEN_2019_epsg4326.json'\n",
    "data  = pd.read_excel('municipalities_kt_zh_data.xlsx')\n",
    "\n",
    "# Bins for color-range of the map\n",
    "bins = list(data['residents_per_km2'].quantile([0.00, 0.25, 0.50, 0.75, 1.00]))\n",
    "\n",
    "# Initializing the map\n",
    "m = folium.Map(location=[47.44, 8.65], \n",
    "               zoom_start=10,  \n",
    "               tiles = 'CartoDBPositron')\n",
    "\n",
    "# Map-Settings\n",
    "folium.Choropleth(\n",
    "        geo_data=polys,\n",
    "        name='choropleth',\n",
    "        data=data,\n",
    "        columns=['BFS', 'residents_per_km2'],\n",
    "        key_on='feature.properties.BFS',\n",
    "        fill_color='RdGy',\n",
    "        fill_opacity=0.7,\n",
    "        line_opacity=0.5,\n",
    "        legend_name='Number of residents',\n",
    "        bins=bins,\n",
    "        reset=True\n",
    ").add_to(m)\n",
    "\n",
    "# Layer controls\n",
    "folium.LayerControl(collapsed=True).add_to(m)\n",
    "\n",
    "# Plot map\n",
    "m\n",
    "\n",
    "# Save map as HTML\n",
    "# m.save('map.html')"
   ]
  },
  {
   "cell_type": "markdown",
   "metadata": {},
   "source": [
    "### Jupyter notebook --footer info-- (please always provide this at the end of each notebook)"
   ]
  },
  {
   "cell_type": "code",
   "execution_count": null,
   "metadata": {},
   "outputs": [],
   "source": [
    "import os\n",
    "import platform\n",
    "import socket\n",
    "from platform import python_version\n",
    "from datetime import datetime\n",
    "\n",
    "print('-----------------------------------')\n",
    "print(os.name.upper())\n",
    "print(platform.system(), '|', platform.release())\n",
    "print('Datetime:', datetime.now().strftime(\"%Y-%m-%d %H:%M:%S\"))\n",
    "print('Python Version:', python_version())\n",
    "print('-----------------------------------')"
   ]
  }
 ],
 "metadata": {
  "kernelspec": {
   "display_name": "Python 3 (ipykernel)",
   "language": "python",
   "name": "python3"
  },
  "language_info": {
   "codemirror_mode": {
    "name": "ipython",
    "version": 3
   },
   "file_extension": ".py",
   "mimetype": "text/x-python",
   "name": "python",
   "nbconvert_exporter": "python",
   "pygments_lexer": "ipython3",
   "version": "3.12.6"
  }
 },
 "nbformat": 4,
 "nbformat_minor": 2
}
